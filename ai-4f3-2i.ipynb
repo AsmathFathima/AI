{
  "nbformat": 4,
  "nbformat_minor": 0,
  "metadata": {
    "colab": {
      "name": "Untitled2.ipynb",
      "provenance": [],
      "authorship_tag": "ABX9TyNNrd61svWmkt0HNSqw1o9M",
      "include_colab_link": true
    },
    "kernelspec": {
      "name": "python3",
      "display_name": "Python 3"
    },
    "language_info": {
      "name": "python"
    }
  },
  "cells": [
    {
      "cell_type": "markdown",
      "metadata": {
        "id": "view-in-github",
        "colab_type": "text"
      },
      "source": [
        "<a href=\"https://colab.research.google.com/github/AsmathFathima/AI/blob/main/ai-4f3-2i.ipynb\" target=\"_parent\"><img src=\"https://colab.research.google.com/assets/colab-badge.svg\" alt=\"Open In Colab\"/></a>"
      ]
    },
    {
      "cell_type": "code",
      "metadata": {
        "id": "VdDezqkglECT"
      },
      "source": [
        ""
      ],
      "execution_count": null,
      "outputs": []
    },
    {
      "cell_type": "code",
      "metadata": {
        "colab": {
          "base_uri": "https://localhost:8080/"
        },
        "id": "r8GtV7iflHeM",
        "outputId": "4690e8c8-40dd-4af9-aaab-cf8e2926862a"
      },
      "source": [
        "import numpy as np\n",
        "x=np.random.uniform(-10,10)\n",
        "eeta=0.002\n",
        "epochs=100\n",
        "iteration=0\n",
        "while iteration<epochs:\n",
        "  slope=4*(x**3)+6*x\n",
        "  step=(-eeta)*slope\n",
        "  x=x+step\n",
        "  iteration=iteration+1\n",
        "x=round(x)\n",
        "obj=x**4+3*(x**2)+10\n",
        "print('x=',x)\n",
        "print('global minimum point=',obj)"
      ],
      "execution_count": 2,
      "outputs": [
        {
          "output_type": "stream",
          "name": "stdout",
          "text": [
            "x= 0\n",
            "global minimum point= 10\n"
          ]
        }
      ]
    }
  ]
}