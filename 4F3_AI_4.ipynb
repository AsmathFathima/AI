{
  "nbformat": 4,
  "nbformat_minor": 0,
  "metadata": {
    "colab": {
      "name": "4F3-AI-4.ipynb",
      "provenance": [],
      "collapsed_sections": [],
      "include_colab_link": true
    },
    "kernelspec": {
      "name": "python3",
      "display_name": "Python 3"
    },
    "language_info": {
      "name": "python"
    }
  },
  "cells": [
    {
      "cell_type": "markdown",
      "metadata": {
        "id": "view-in-github",
        "colab_type": "text"
      },
      "source": [
        "<a href=\"https://colab.research.google.com/github/AsmathFathima/AI/blob/main/4F3_AI_4.ipynb\" target=\"_parent\"><img src=\"https://colab.research.google.com/assets/colab-badge.svg\" alt=\"Open In Colab\"/></a>"
      ]
    },
    {
      "cell_type": "code",
      "metadata": {
        "colab": {
          "base_uri": "https://localhost:8080/"
        },
        "id": "mOk-4XMoaCD4",
        "outputId": "0bc98b53-b18a-4103-926d-51bec627ca56"
      },
      "source": [
        "from google.colab import drive\n",
        "drive.mount('/content/drive')"
      ],
      "execution_count": 1,
      "outputs": [
        {
          "output_type": "stream",
          "name": "stdout",
          "text": [
            "Drive already mounted at /content/drive; to attempt to forcibly remount, call drive.mount(\"/content/drive\", force_remount=True).\n"
          ]
        }
      ]
    },
    {
      "cell_type": "code",
      "metadata": {
        "id": "HEDx8ISqYHtY"
      },
      "source": [
        ""
      ],
      "execution_count": 1,
      "outputs": []
    },
    {
      "cell_type": "code",
      "metadata": {
        "id": "ldmbzZnLbpzj"
      },
      "source": [
        "import pandas as pd\n",
        "import numpy as np"
      ],
      "execution_count": 2,
      "outputs": []
    },
    {
      "cell_type": "code",
      "metadata": {
        "colab": {
          "base_uri": "https://localhost:8080/",
          "height": 224
        },
        "id": "DNL2XVoobqJ3",
        "outputId": "e4b8fc74-df0f-4fba-bd64-c4157a7d874d"
      },
      "source": [
        "path ='/content/drive/MyDrive/load4'\n",
        "data= pd.read_excel(path)\n",
        "data.head()\n"
      ],
      "execution_count": 3,
      "outputs": [
        {
          "output_type": "stream",
          "name": "stdout",
          "text": [
            "*** No CODEPAGE record, no encoding_override: will use 'ascii'\n"
          ]
        },
        {
          "output_type": "execute_result",
          "data": {
            "text/html": [
              "<div>\n",
              "<style scoped>\n",
              "    .dataframe tbody tr th:only-of-type {\n",
              "        vertical-align: middle;\n",
              "    }\n",
              "\n",
              "    .dataframe tbody tr th {\n",
              "        vertical-align: top;\n",
              "    }\n",
              "\n",
              "    .dataframe thead th {\n",
              "        text-align: right;\n",
              "    }\n",
              "</style>\n",
              "<table border=\"1\" class=\"dataframe\">\n",
              "  <thead>\n",
              "    <tr style=\"text-align: right;\">\n",
              "      <th></th>\n",
              "      <th>X</th>\n",
              "      <th>Y</th>\n",
              "    </tr>\n",
              "  </thead>\n",
              "  <tbody>\n",
              "    <tr>\n",
              "      <th>0</th>\n",
              "      <td>7.6</td>\n",
              "      <td>157</td>\n",
              "    </tr>\n",
              "    <tr>\n",
              "      <th>1</th>\n",
              "      <td>7.1</td>\n",
              "      <td>174</td>\n",
              "    </tr>\n",
              "    <tr>\n",
              "      <th>2</th>\n",
              "      <td>8.2</td>\n",
              "      <td>175</td>\n",
              "    </tr>\n",
              "    <tr>\n",
              "      <th>3</th>\n",
              "      <td>7.5</td>\n",
              "      <td>188</td>\n",
              "    </tr>\n",
              "    <tr>\n",
              "      <th>4</th>\n",
              "      <td>7.4</td>\n",
              "      <td>171</td>\n",
              "    </tr>\n",
              "  </tbody>\n",
              "</table>\n",
              "</div>"
            ],
            "text/plain": [
              "     X    Y\n",
              "0  7.6  157\n",
              "1  7.1  174\n",
              "2  8.2  175\n",
              "3  7.5  188\n",
              "4  7.4  171"
            ]
          },
          "metadata": {},
          "execution_count": 3
        }
      ]
    },
    {
      "cell_type": "code",
      "metadata": {
        "id": "ag-jZhYjb5vW"
      },
      "source": [
        "minX=np.min(data['X'])\n",
        "maxX=np.max(data['X'])\n",
        "minY=np.min(data['Y'])\n",
        "maxY=np.max(data['Y'])\n",
        "data['Y']=(data['Y']-minY)/(maxY-minY)\n",
        "data['X']=(data['X']-minX)/(maxX-minX)\n",
        "x=data['X']\n",
        "y=data['Y']"
      ],
      "execution_count": 4,
      "outputs": []
    },
    {
      "cell_type": "code",
      "metadata": {
        "id": "2915LcpCb-_F"
      },
      "source": [
        "from sklearn.model_selection import train_test_split\n",
        "x_train, x_test, y_train, y_test = train_test_split(x, y, test_size=0.1, random_state=4)"
      ],
      "execution_count": 5,
      "outputs": []
    },
    {
      "cell_type": "code",
      "metadata": {
        "id": "Dy0QXOmRcDv9"
      },
      "source": [
        "m=np.random.uniform(-5,5)\n",
        "c=np.random.uniform(-5,5)\n",
        "eta=0.01\n",
        "epochs=500\n",
        "iter=0\n",
        "while iter<epochs:\n",
        "  for i in range(x_train.shape[0]):\n",
        "    delm=-1*(y_train.iloc[i]-m*x_train.iloc[i]-c)*x_train.iloc[i]\n",
        "    delc=-1*(y_train.iloc[i]-m*x_train.iloc[i]-c)\n",
        "    step_m=(-eta)*delm\n",
        "    step_c=(-eta)*delc\n",
        "    m=m+step_m\n",
        "    c=c+step_c\n",
        "  iter=iter+1"
      ],
      "execution_count": 6,
      "outputs": []
    },
    {
      "cell_type": "code",
      "metadata": {
        "id": "wWoK9G-PcHKy"
      },
      "source": [
        "y_pred_train=[]\n",
        "for i in range(x_train.shape[0]):\n",
        "  pred=m*x_train.iloc[i]+c\n",
        "  y_pred_train.append(pred)\n",
        "y_pred_test=[]\n",
        "for i in range(x_test.shape[0]):\n",
        "  pred=m*x_test.iloc[i]+c\n",
        "  y_pred_test.append(pred)\n",
        "  \n",
        "\n"
      ],
      "execution_count": 7,
      "outputs": []
    },
    {
      "cell_type": "code",
      "metadata": {
        "id": "Tfb_RscdgDmd"
      },
      "source": [
        "for i in range(x_train.shape[0]):\n",
        "  x_train.iloc[i]=x_train.iloc[i]*(maxX-minX)+minX\n",
        "  y_train.iloc[i]=y_train.iloc[i]*(maxY-minY) +minY\n",
        "  y_pred_train[i]=y_pred_train[i]*(maxY-minY)+minY\n",
        "for i in range(x_test.shape[0]):\n",
        "  x_test.iloc[i]=x_test.iloc[i]*(maxX-minX)+minY\n",
        "  y_test.iloc[i]=y_test.iloc[i]*(maxY-minY)+minY\n",
        "  y_pred_test[i]=y_pred_test[i]*(maxY-minY)+minY"
      ],
      "execution_count": 8,
      "outputs": []
    },
    {
      "cell_type": "code",
      "metadata": {
        "id": "dxnnywKlcKmm"
      },
      "source": [
        "from sklearn.metrics import mean_absolute_error\n",
        "from sklearn.metrics import mean_squared_error\n",
        "import math\n",
        "trainMAE=mean_absolute_error(y_train,y_pred_train)\n",
        "trainMSE=mean_squared_error(y_train,y_pred_train)\n",
        "trainRMSE=math.sqrt(trainMSE)\n",
        "testMAE=mean_absolute_error(y_test,y_pred_test)\n",
        "testMSE=mean_squared_error(y_test,y_pred_test)\n",
        "testRMSE=math.sqrt(testMSE)\n"
      ],
      "execution_count": 10,
      "outputs": []
    },
    {
      "cell_type": "code",
      "metadata": {
        "colab": {
          "base_uri": "https://localhost:8080/"
        },
        "id": "pfXqEdpdcN49",
        "outputId": "2ba86153-8574-42cf-ef8d-d1248b728e6d"
      },
      "source": [
        "print('TrainMAE',trainMAE)\n",
        "print('TrainMSE',trainMSE)\n",
        "print('TrainRMSE',trainRMSE)\n",
        "print('TestMAE',testMAE)\n",
        "print('TestMSE',testMSE)\n",
        "print('TestRMSE',testRMSE)"
      ],
      "execution_count": 11,
      "outputs": [
        {
          "output_type": "stream",
          "name": "stdout",
          "text": [
            "TrainMAE 46.167815091534784\n",
            "TrainMSE 2868.1681794595443\n",
            "TrainRMSE 53.55528152721769\n",
            "TestMAE 32.55423694197421\n",
            "TestMSE 1248.587697825856\n",
            "TestRMSE 35.335360445676166\n"
          ]
        }
      ]
    },
    {
      "cell_type": "markdown",
      "metadata": {
        "id": "LbZK4YCYdjwZ"
      },
      "source": [
        ""
      ]
    }
  ]
}