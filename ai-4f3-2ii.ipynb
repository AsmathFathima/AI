{
  "nbformat": 4,
  "nbformat_minor": 0,
  "metadata": {
    "colab": {
      "name": "Untitled3.ipynb",
      "provenance": [],
      "authorship_tag": "ABX9TyOmgijAT0uD15mD1+S8kWmw",
      "include_colab_link": true
    },
    "kernelspec": {
      "name": "python3",
      "display_name": "Python 3"
    },
    "language_info": {
      "name": "python"
    }
  },
  "cells": [
    {
      "cell_type": "markdown",
      "metadata": {
        "id": "view-in-github",
        "colab_type": "text"
      },
      "source": [
        "<a href=\"https://colab.research.google.com/github/AsmathFathima/AI/blob/main/ai-4f3-2ii.ipynb\" target=\"_parent\"><img src=\"https://colab.research.google.com/assets/colab-badge.svg\" alt=\"Open In Colab\"/></a>"
      ]
    },
    {
      "cell_type": "code",
      "metadata": {
        "id": "8jzDJiUqny3B"
      },
      "source": [
        ""
      ],
      "execution_count": null,
      "outputs": []
    },
    {
      "cell_type": "code",
      "metadata": {
        "colab": {
          "base_uri": "https://localhost:8080/"
        },
        "id": "iSx9TrOmn1ek",
        "outputId": "39c811d0-13fc-4495-bc70-2eac3e48d252"
      },
      "source": [
        "import numpy as np\n",
        "import math\n",
        "x=np.random.uniform(-50,50)\n",
        "y=np.random.uniform(-50,50)\n",
        "eeta=0.005\n",
        "epochs=200\n",
        "iteration=0\n",
        "while iteration<epochs:\n",
        "  slopex=6*x\n",
        "  slopey=-5*math.exp(-y)\n",
        "  stepx=(-eeta)*slopex\n",
        "  stepy=(-eeta)*slopey\n",
        "  x=x+stepx\n",
        "  y=y+stepy\n",
        "  iteration=iteration+1\n",
        "x=round(x)\n",
        "y=round(y)\n",
        "obj=3*(x**2)+5*math.exp(-y)+10\n",
        "print('x=',x)\n",
        "print('y=',y)\n",
        "print('global minimum point=',obj)\n",
        "\n",
        "\n",
        "\n",
        "\n",
        "\n",
        "\n",
        "\n",
        "\n",
        "\n",
        "\n",
        "\n",
        "\n",
        "\n",
        "\n"
      ],
      "execution_count": 24,
      "outputs": [
        {
          "output_type": "stream",
          "name": "stdout",
          "text": [
            "x= 0\n",
            "y= 1544649233742\n",
            "global minimum point= 10.0\n"
          ]
        }
      ]
    },
    {
      "cell_type": "code",
      "metadata": {
        "id": "NbVE7jnktsSg"
      },
      "source": [
        ""
      ],
      "execution_count": null,
      "outputs": []
    }
  ]
}