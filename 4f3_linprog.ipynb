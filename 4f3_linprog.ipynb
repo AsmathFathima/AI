{
 "cells": [
  {
   "cell_type": "code",
   "execution_count": 17,
   "id": "f61b0e94",
   "metadata": {},
   "outputs": [
    {
     "name": "stdout",
     "output_type": "stream",
     "text": [
      "amount of wheat = 97.89473684210526\n",
      "amount of barley = 7.368421052631579\n",
      "profit= 5778.9473684210525\n"
     ]
    }
   ],
   "source": [
    "#import linprog \n",
    "from scipy.optimize import linprog\n",
    "#objective function matrix\n",
    "obj=[-50,-120]\n",
    "#constraints\n",
    "#10p+30q=1200->p+3q=120\n",
    "#700p+2000q=700000->7p+2q=700\n",
    "#p+q=110\n",
    "A_ieq=[[1,1],[7,2],[1,3]]#inequality constraints coefficient matrix\n",
    "B_ieq=[110,700,120]#inequality constraints coefficient matrix\n",
    "boundary=[(0,float(\"inf\")),(0,float(\"inf\"))]\n",
    "optimize=linprog(c=obj,A_ub=A_ieq,b_ub=B_ieq,bounds=boundary,method=\"simplex\")\n",
    "x,y = optimize.x\n",
    "Profit = x*50 + y*120\n",
    "print('amount of wheat =', x)\n",
    "print('amount of barley =', y)\n",
    "print('profit=', Profit)\n"
   ]
  },
  {
   "cell_type": "code",
   "execution_count": null,
   "id": "a25d65f2",
   "metadata": {},
   "outputs": [],
   "source": []
  }
 ],
 "metadata": {
  "kernelspec": {
   "display_name": "Python 3",
   "language": "python",
   "name": "python3"
  },
  "language_info": {
   "codemirror_mode": {
    "name": "ipython",
    "version": 3
   },
   "file_extension": ".py",
   "mimetype": "text/x-python",
   "name": "python",
   "nbconvert_exporter": "python",
   "pygments_lexer": "ipython3",
   "version": "3.8.8"
  }
 },
 "nbformat": 4,
 "nbformat_minor": 5
}
